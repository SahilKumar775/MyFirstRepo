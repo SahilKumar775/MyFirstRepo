{
 "cells": [
  {
   "cell_type": "markdown",
   "id": "e7c29ed2-1dd4-4f87-8eb6-03a3882a73ac",
   "metadata": {},
   "source": [
    "# Data Science Tools and Ecosystem"
   ]
  },
  {
   "cell_type": "markdown",
   "id": "44382c22-d452-45bc-bf89-985d1166f70a",
   "metadata": {},
   "source": [
    "## In this notebook, Data Science Tools and Ecosystem are summarized."
   ]
  },
  {
   "cell_type": "markdown",
   "id": "50a5913c-cefa-4516-b6d0-df8ec9732814",
   "metadata": {},
   "source": [
    "** Objectives: **\n",
    "- List popular languages for Data Science\n",
    "- List popular tools for Data Science\n",
    "- List popular Tools for Data Science\n",
    "- Perform basic arthematic"
   ]
  },
  {
   "cell_type": "markdown",
   "id": "c0dea11b-04dd-4718-8cb7-4068513bd9a1",
   "metadata": {},
   "source": [
    "### Some of the popular languages that Data Scientists use are:\n",
    "1. Python\n",
    "2. R\n",
    "3. C++\n",
    "4. Java\n",
    "5. Scala\n",
    "6. Julia"
   ]
  },
  {
   "cell_type": "markdown",
   "id": "f4dd9da5-0ee2-4912-a68c-5d48c3559a9d",
   "metadata": {},
   "source": [
    "## Some of the commonly used libraries used by Data Scientists include:\n",
    "1. Pandas\n",
    "2. Numpy\n",
    "3. Matplotlib\n",
    "4. caret\n",
    "5. ggplot\n",
    "6. sklit learn"
   ]
  },
  {
   "cell_type": "markdown",
   "id": "768269c9-d1a9-4265-8f0d-5c1c18cbcccd",
   "metadata": {},
   "source": [
    "|Data Science Tools|\n",
    "|--------|\n",
    "|Goggle colab|\n",
    "|Watson Studio|\n",
    "|Github|\n",
    "|R studio|\n",
    "|VS code|"
   ]
  },
  {
   "cell_type": "markdown",
   "id": "d142145b-c1b4-4475-af6c-599131b4dae7",
   "metadata": {},
   "source": [
    "### Below are a few examples of evaluating arithmetic expressions in Python"
   ]
  },
  {
   "cell_type": "code",
   "execution_count": 4,
   "id": "c289efa4-40ab-43eb-9274-ed2570eeec5d",
   "metadata": {},
   "outputs": [
    {
     "data": {
      "text/plain": [
       "17"
      ]
     },
     "execution_count": 4,
     "metadata": {},
     "output_type": "execute_result"
    }
   ],
   "source": [
    "# This a simple arithmetic expression to mutiply then add integers\n",
    "(3*4)+5"
   ]
  },
  {
   "cell_type": "code",
   "execution_count": 6,
   "id": "57693ad2-9551-49a6-ad08-574dc9562075",
   "metadata": {},
   "outputs": [
    {
     "name": "stdout",
     "output_type": "stream",
     "text": [
      "3.3333333333333335\n"
     ]
    }
   ],
   "source": [
    "# This will convert 200 minutes to hours by diving by 60\n",
    "print(200/60)"
   ]
  },
  {
   "cell_type": "code",
   "execution_count": null,
   "id": "430c4132-7dff-4303-9512-6f0e6b2743f8",
   "metadata": {},
   "outputs": [],
   "source": [
    "## Author\n",
    "Sahil Kumar"
   ]
  }
 ],
 "metadata": {
  "kernelspec": {
   "display_name": "Python 3 (ipykernel)",
   "language": "python",
   "name": "python3"
  },
  "language_info": {
   "codemirror_mode": {
    "name": "ipython",
    "version": 3
   },
   "file_extension": ".py",
   "mimetype": "text/x-python",
   "name": "python",
   "nbconvert_exporter": "python",
   "pygments_lexer": "ipython3",
   "version": "3.11.7"
  }
 },
 "nbformat": 4,
 "nbformat_minor": 5
}
